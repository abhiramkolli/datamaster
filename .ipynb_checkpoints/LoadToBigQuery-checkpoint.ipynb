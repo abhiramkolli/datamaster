{
 "cells": [
  {
   "cell_type": "code",
   "execution_count": 1,
   "metadata": {},
   "outputs": [],
   "source": [
    "from google.cloud import bigquery\n",
    "from google.cloud import storage"
   ]
  },
  {
   "cell_type": "code",
   "execution_count": 3,
   "metadata": {},
   "outputs": [],
   "source": [
    "#Pass bigquery.SourceFormat.NEWLINE_DELIMITED_JSON for JSON in delimiter type and bigquery.SourceFormat.CSV for CSV\n",
    "def loadfiletobigquery(file_name, dataset_id, table_name, delimitertype, loadtype):\n",
    "    client = bigquery.Client()\n",
    "    table_ref = client.dataset(dataset_id).table(file_name)\n",
    "    job_config = bigquery.LoadJobConfig()\n",
    "    job_config.source_format = bigquery.SourceFormat.NEWLINE_DELIMITED_JSON\n",
    "    job_config.write_disposition = bigquery.WriteDisposition.WRITE_APPEND\n",
    "\n",
    "    load_job = client.load_table_from_uri(\n",
    "        file_name,\n",
    "        table_ref,\n",
    "        job_config=job_config)  # API request\n",
    "\n",
    "    assert load_job.job_type == 'load'\n",
    "\n",
    "    load_job.result()  # Waits for table load to complete.\n",
    "\n",
    "    assert load_job.state == 'DONE'"
   ]
  },
  {
   "cell_type": "code",
   "execution_count": null,
   "metadata": {},
   "outputs": [],
   "source": []
  }
 ],
 "metadata": {
  "kernelspec": {
   "display_name": "Python 3",
   "language": "python",
   "name": "python3"
  },
  "language_info": {
   "codemirror_mode": {
    "name": "ipython",
    "version": 3
   },
   "file_extension": ".py",
   "mimetype": "text/x-python",
   "name": "python",
   "nbconvert_exporter": "python",
   "pygments_lexer": "ipython3",
   "version": "3.6.5"
  }
 },
 "nbformat": 4,
 "nbformat_minor": 2
}

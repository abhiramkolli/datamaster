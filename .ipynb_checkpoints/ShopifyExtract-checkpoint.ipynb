{
 "cells": [
  {
   "cell_type": "code",
   "execution_count": 240,
   "metadata": {},
   "outputs": [],
   "source": [
    "import requests\n",
    "import json\n",
    "import math\n",
    "import time\n",
    "import os\n",
    "import pandas as pd\n",
    "from dateutil.relativedelta import relativedelta\n",
    "import datetime\n",
    "from datetime import timedelta\n",
    "from dateutil import tz\n",
    "import dateutil.parser as dp\n",
    "from google.cloud import bigquery\n",
    "from google.cloud import storage"
   ]
  },
  {
   "cell_type": "code",
   "execution_count": 239,
   "metadata": {},
   "outputs": [],
   "source": [
    "shopifyurl='https://kopari.myshopify.com'\n",
    "access_token = '8279ced3019a6038ac4237837110c22f'\n",
    "project_id = 'sarasmaster-201918'\n",
    "dataset = 'kopari'\n",
    "pageno = 1\n",
    "limit = 250\n",
    "status = 'any'\n",
    "runtype = ['full','timebound']\n",
    "headers = {'content-type' : 'application/json', 'X-Shopify-Access-Token' : access_token}\n",
    "urlparams = {'limit': limit, 'status' : status}\n",
    "cnturlparams = {'status' : status}\n",
    "dot = '.'\n",
    "filepath = 'C:\\\\Users\\\\kabhi\\\\Desktop\\\\datamaster\\\\kopari\\\\shopify\\\\'\n",
    "shopurl = shopifyurl + '/admin/shop.json'\n",
    "shopifycodes = {\n",
    "    'shopifycodes': ['orders', 'customers', 'products'],\n",
    "    'pageurl': [shopifyurl + '/admin/orders.json', shopifyurl + '/admin/customers.json', shopifyurl + '/admin/products.json'],\n",
    "    'countrurl': [shopifyurl + '/admin/orders/count.json', shopifyurl + '/admin/customers/count.json', shopifyurl + '/admin/products/count.json'],\n",
    "    'dest_table_name': [dataset + dot + 'shopify_orders', dataset + dot + 'shopify_customers', dataset + dot + 'shopify_products'],\n",
    "    'table_name': ['shopify_orders', 'shopify_customers', 'shopify_products'],\n",
    "    'dest_file_name': [filepath + '\\\\orders\\\\orders', filepath + '\\\\customers\\\\customers', filepath + '\\\\products\\\\products'],\n",
    "    'dest_file_type': ['json', 'json', 'json']\n",
    "}\n",
    "\n",
    "dfshopifycodes = pd.DataFrame(shopifycodes)"
   ]
  },
  {
   "cell_type": "code",
   "execution_count": 223,
   "metadata": {},
   "outputs": [],
   "source": [
    "def gendates(shoptimezone, min_date,max_date,rfreq):\n",
    "    to_zone = tz.gettz(shoptimezone)\n",
    "    dateranges = pd.date_range(start=min_date, end=max_date, freq=rfreq, tz=to_zone)\n",
    "    dateranges = dateranges.union([min_date,max_date])\n",
    "    dfdateranges = pd.DataFrame(dateranges)\n",
    "    dfdateranges.columns=['start_date']\n",
    "    dfdateranges['end_date'] = dfdateranges.start_date.shift(-1)\n",
    "    dfdateranges = dfdateranges[:-1]\n",
    "    return dfdateranges"
   ]
  },
  {
   "cell_type": "code",
   "execution_count": 224,
   "metadata": {},
   "outputs": [],
   "source": [
    "def getcurtimeinshoptz(sz):\n",
    "    from_zone = tz.tzlocal()\n",
    "    to_zone = tz.gettz(sz)\n",
    "    utc = datetime.datetime.now()\n",
    "    utc = utc.replace(tzinfo=from_zone)\n",
    "    currentshopdate = utc.astimezone(to_zone)\n",
    "    return currentshopdate"
   ]
  },
  {
   "cell_type": "code",
   "execution_count": 225,
   "metadata": {},
   "outputs": [],
   "source": [
    "def getcountandpages(countrurl, headers, cntparams):\n",
    "    totalcnt = requests.get(countrurl, headers = headers, params = cntparams).json()['count']   \n",
    "    nopages = math.ceil(totalcnt/limit)\n",
    "    return totalcnt,nopages"
   ]
  },
  {
   "cell_type": "code",
   "execution_count": 226,
   "metadata": {},
   "outputs": [],
   "source": [
    "def gettimezone(shoptimeurl, headers, cntparams):\n",
    "    response = requests.get(shoptimeurl, headers = headers, params = cntparams).json()\n",
    "    df = pd.DataFrame(response['shop'], index=[0])\n",
    "    return df['iana_timezone'][0]"
   ]
  },
  {
   "cell_type": "code",
   "execution_count": 227,
   "metadata": {},
   "outputs": [],
   "source": [
    "def getfirstorderdate(shopifycode, pageurl, headers, params):\n",
    "    params.update({'order' : 'created_at asc'})\n",
    "    response = requests.get(pageurl, headers = headers, params = params).json()\n",
    "    df = pd.DataFrame(response[shopifycode])\n",
    "    min_date = min(df['created_at'])\n",
    "    return min_date"
   ]
  },
  {
   "cell_type": "code",
   "execution_count": 228,
   "metadata": {},
   "outputs": [],
   "source": [
    "def getshopifydates(rtype, rfreq, min_date, max_date, shopifycode, shoptimezone, countrurl, headers, cntparams, pageurl, params):\n",
    "    if rtype == runtype[0]:\n",
    "        currentshopdate = getcurtimeinshoptz(shoptimezone)\n",
    "        to_zone = tz.gettz(shoptimezone)\n",
    "        min_date_str = getfirstorderdate(shopifycode, pageurl, headers, params)\n",
    "        min_date = dp.parse(min_date_str)\n",
    "        min_date = min_date.replace(tzinfo=to_zone)\n",
    "        dates = gendates(shoptimezone, min_date, currentshopdate, rfreq)\n",
    "    elif rtype == runtype[1]:\n",
    "        if min_date == None and max_date == None:\n",
    "            return\n",
    "        elif max_date == None:    \n",
    "            dates = gendates(shoptimezone, min_date, currentshopdate, rfreq)\n",
    "            return dates\n",
    "        else:    \n",
    "            dates = gendates(shoptimezone, min_date, max_date, rfreq)\n",
    "            return dates"
   ]
  },
  {
   "cell_type": "code",
   "execution_count": 229,
   "metadata": {},
   "outputs": [],
   "source": [
    "def pushtojson(dfcontents, dest_file_name):\n",
    "    dfcontents.to_json(dest_file_name,orient=\"records\",lines=True)"
   ]
  },
  {
   "cell_type": "code",
   "execution_count": null,
   "metadata": {},
   "outputs": [],
   "source": [
    "def pushjsontogs(dfcontents, dest_file_name):\n",
    "    client = storage.Client()\n",
    "    bucket = client.create_bucket('test-bucket')\n",
    "    blob = client.blob('test-blob')\n",
    "    dfcontents.to_json(dest_file_name,orient=\"records\",lines=True)"
   ]
  },
  {
   "cell_type": "code",
   "execution_count": 230,
   "metadata": {},
   "outputs": [],
   "source": [
    "def requestshopifydata(shopifycode, pageurl, params): \n",
    "    response = requests.get(pageurl, headers = headers, params = params)\n",
    "    df = pd.DataFrame(response.json()[shopifycode])\n",
    "    return df\n"
   ]
  },
  {
   "cell_type": "code",
   "execution_count": 233,
   "metadata": {},
   "outputs": [],
   "source": [
    "shoptimezone = gettimezone(shopurl, headers, cnturlparams)\n",
    "currentshopdate = getcurtimeinshoptz(shoptimezone)\n",
    "lastshopdate = currentshopdate - timedelta(days=1)\n",
    "runmode = runtype[1]\n",
    "runfreq = 'D'\n",
    "start_date = lastshopdate\n",
    "end_date = currentshopdate\n",
    "for row_index,row in dfshopifycodes.iterrows():\n",
    "    dates = getshopifydates(runmode,runfreq,start_date,end_date,row['shopifycodes'], shoptimezone, row['countrurl'], headers, cnturlparams, row['pageurl'], urlparams)\n",
    "    for dates_index, dates_row in dates.iterrows():\n",
    "        cntparams = cnturlparams\n",
    "        cntparams.update({'updated_at_min' : dates_row['start_date'],'updated_at_max' : dates_row['end_date']})\n",
    "        totalcnt,nopages = getcountandpages(row['countrurl'], headers, cntparams)\n",
    "        for i in range(1,nopages):\n",
    "            params = urlparams\n",
    "            params.update({'page': i,'updated_at_min' : dates_row['start_date'],'updated_at_max' : dates_row['end_date']})\n",
    "            df = requestshopifydata(row['shopifycodes'], row['pageurl'], params)\n",
    "            time.sleep(1)\n",
    "            pushtojson(df, row['dest_file_name'] + '_' + dates_row['start_date'].strftime('%Y%m%d%H%M%S') + '_' + dates_row['end_date'].strftime('%Y%m%d%H%M%S') + '_' + str(i) + dot + row['dest_file_type'])"
   ]
  },
  {
   "cell_type": "code",
   "execution_count": 4,
   "metadata": {},
   "outputs": [],
   "source": [
    "def pushtogbq(dfcontents, project_id, dataset_id, dest_table_name):\n",
    "    \n",
    "    client = bigquery.Client.from_service_account_json('C:\\\\Users\\\\kabhi\\\\Downloads\\\\shopify-bdb99f556c35.json', project=project_id)\n",
    "    dataset_ref = client.dataset(dataset_id)\n",
    "    \n",
    "    errors = client.insert_rows(dest_table_name, dfcontents.to_json(orient='records',lines=True))  # API request"
   ]
  },
  {
   "cell_type": "code",
   "execution_count": 5,
   "metadata": {},
   "outputs": [],
   "source": [
    "def insert_test_data_old(dfcontents, project_id, dataset_name, table_name):\n",
    "    client = bigquery.Client.from_service_account_json('C:\\\\Users\\\\kabhi\\\\Downloads\\\\shopify-bdb99f556c35.json', project=project_id)\n",
    "    dataset_ref = client.dataset(dataset_name)\n",
    "    table_ref = dataset_ref.table(table_name)\n",
    "    table = client.get_table(table_ref)\n",
    "    errors = client.insert_rows(table, dfcontents.to_json(orient='records',lines=True))"
   ]
  },
  {
   "cell_type": "code",
   "execution_count": 218,
   "metadata": {},
   "outputs": [
    {
     "name": "stdout",
     "output_type": "stream",
     "text": [
      "h1b\n",
      "taamara\n"
     ]
    }
   ],
   "source": [
    "from google.cloud import bigquery\n",
    "bigquery_client = bigquery.Client.from_service_account_json('C:\\\\Users\\\\kabhi\\\\Downloads\\\\shopify-bdb99f556c35.json', project=project_id)\n",
    "for dataset in bigquery_client.list_datasets():\n",
    "    print(dataset.dataset_id)"
   ]
  },
  {
   "cell_type": "code",
   "execution_count": null,
   "metadata": {},
   "outputs": [],
   "source": [
    "def upload_blob(bucket_name, source_file_name, destination_blob_name, project):\n",
    "    storage_client = storage.Client(project=project)\n",
    "    bucket = storage_client.get_bucket(bucket_name)\n",
    "    blob = bucket.blob(destination_blob_name)\n",
    "\n",
    "    blob.upload_from_filename(source_file_name)\n",
    "\n",
    "    print('File {} uploaded to {}.'.format(source_file_name,destination_blob_name))"
   ]
  }
 ],
 "metadata": {
  "kernelspec": {
   "display_name": "Python 3",
   "language": "python",
   "name": "python3"
  },
  "language_info": {
   "codemirror_mode": {
    "name": "ipython",
    "version": 3
   },
   "file_extension": ".py",
   "mimetype": "text/x-python",
   "name": "python",
   "nbconvert_exporter": "python",
   "pygments_lexer": "ipython3",
   "version": "3.6.5"
  }
 },
 "nbformat": 4,
 "nbformat_minor": 2
}

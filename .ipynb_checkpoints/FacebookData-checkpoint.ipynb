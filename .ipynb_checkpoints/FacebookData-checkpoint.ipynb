{
 "cells": [
  {
   "cell_type": "code",
   "execution_count": 63,
   "metadata": {},
   "outputs": [],
   "source": [
    "# This program downloads all relevent Facebook traffic info as a csv file\n",
    "# This program requires info from the Facebook Ads API: https://github.com/facebook/facebook-python-ads-sdk\n",
    "\n",
    "# Import all the facebook mumbo jumbo\n",
    "from facebookads.api import FacebookAdsApi\n",
    "from facebookads.adobjects.adsinsights import AdsInsights\n",
    "from facebookads.adobjects.adaccount import AdAccount\n",
    "\n",
    "# Set the info to get connected to the API. Do NOT share this info\n",
    "my_app_id = '2021061321500171'\n",
    "my_app_secret = '5915df9b720e7111e36d68d37a212df3'\n",
    "#my_access_token = 'EAAcuJQIjJgsBAFOZANyIsZBWwMVA7RCKCoMeQTYoV3CdCtcJQNOIHubpZCfZAgmSthQufGoWklisijKTwWqJsXsIqC4ZC5DFQ5kIjO7PZAcGoxWVhWuJ9vZBvlWfzZCPjN43OccIBLilr3EamGrDaaoBVjI63IJXimFjGR04QJcHZCgZDZD'\n",
    "#my_access_token = 'EAAZAeBf7icPYBAGWMLrJAmlIe38rF5Gr3rI7tvjUtR1ItHRPbSjbwiulGjRMFm2sjhtJCSjKRMvKRBiaRiAl5rH7nc34ix9nELX9SBVW8DDyv4B1pdi98dAnCTs75q2W9tJl8bhiEnjJFLhjjF4LzoCUDufJymlktRsTuHQZDZD'\n",
    "my_access_token = 'EAAcuJQIjJgsBAKqN9j74R27A2ZCBGPkZCeLsGCZB9aHqXpzRyZCex3YJrGZCXEkk8ZAPPrrcvik8K46PqsWFNh1iT8T8KRjAw8ufTzfcZBOR7VINlqPiLmryI4Kvuz3dXFBQFZAia8kNW5G4GYSlkuJjBJi4ARAKtJIlvhCa35oAfokA87irHQ9k'\n",
    "\n",
    "ad_account_id = 'act_113612409500528'\n",
    "\n",
    "#my_app_id = '154594298566571'\n",
    "#my_app_secret = '10795c8d01941bfa5c1588853cf0c356'\n",
    "#my_access_token = 'EAACMmkpAF6sBANkEzzq5xjfQKHwwL1x36oQp73y2mGwWq1MDtvb5Ujh6RNJMv8RscvFAL7dNLw5wYphQqVr3eFEZCZCIZBpW0MFn1b3DTa0quH94PzId6UZCuZBQP6yHGdWr8wCjYM5gHzQ06LuDH7iGfT64tFkGCd1xJaFGrZCQ2ri6nS0pB6WUgfr0ov4TuFGXo92zo7OwZDZD'\n",
    "#ad_account_id = 'act_308243465'"
   ]
  },
  {
   "cell_type": "code",
   "execution_count": 64,
   "metadata": {},
   "outputs": [],
   "source": [
    "# Start the connection to the facebook API\n",
    "FacebookAdsApi.init(my_app_id, my_app_secret, my_access_token)\n",
    "#FacebookAdsApi.init(access_token=my_access_token)\n",
    "account = AdAccount(ad_account_id)"
   ]
  },
  {
   "cell_type": "code",
   "execution_count": 65,
   "metadata": {},
   "outputs": [
    {
     "ename": "FacebookRequestError",
     "evalue": "\n\n  Message: Call was not successful\n  Method:  GET\n  Path:    https://graph.facebook.com/v2.11/act_113612409500528/campaigns\n  Params:  {'summary': 'true'}\n\n  Status:  400\n  Response:\n    {\n      \"error\": {\n        \"message\": \"(#3) Application does not have the capability to make this API call.\",\n        \"type\": \"OAuthException\",\n        \"code\": 3,\n        \"fbtrace_id\": \"E4Bb4A3CAlP\"\n      }\n    }\n",
     "output_type": "error",
     "traceback": [
      "\u001b[1;31m---------------------------------------------------------------------------\u001b[0m",
      "\u001b[1;31mFacebookRequestError\u001b[0m                      Traceback (most recent call last)",
      "\u001b[1;32m<ipython-input-65-bf7c11caddca>\u001b[0m in \u001b[0;36m<module>\u001b[1;34m()\u001b[0m\n\u001b[1;32m----> 1\u001b[1;33m \u001b[0mcampaigns\u001b[0m \u001b[1;33m=\u001b[0m \u001b[0maccount\u001b[0m\u001b[1;33m.\u001b[0m\u001b[0mget_campaigns\u001b[0m\u001b[1;33m(\u001b[0m\u001b[1;33m)\u001b[0m\u001b[1;33m\u001b[0m\u001b[0m\n\u001b[0m",
      "\u001b[1;32m~\\AppData\\Local\\conda\\conda\\envs\\datamaster\\lib\\site-packages\\facebookads\\adobjects\\adaccount.py\u001b[0m in \u001b[0;36mget_campaigns\u001b[1;34m(self, fields, params, batch, pending)\u001b[0m\n\u001b[0;32m   1289\u001b[0m         \u001b[1;32melse\u001b[0m\u001b[1;33m:\u001b[0m\u001b[1;33m\u001b[0m\u001b[0m\n\u001b[0;32m   1290\u001b[0m             \u001b[0mself\u001b[0m\u001b[1;33m.\u001b[0m\u001b[0massure_call\u001b[0m\u001b[1;33m(\u001b[0m\u001b[1;33m)\u001b[0m\u001b[1;33m\u001b[0m\u001b[0m\n\u001b[1;32m-> 1291\u001b[1;33m             \u001b[1;32mreturn\u001b[0m \u001b[0mrequest\u001b[0m\u001b[1;33m.\u001b[0m\u001b[0mexecute\u001b[0m\u001b[1;33m(\u001b[0m\u001b[1;33m)\u001b[0m\u001b[1;33m\u001b[0m\u001b[0m\n\u001b[0m\u001b[0;32m   1292\u001b[0m \u001b[1;33m\u001b[0m\u001b[0m\n\u001b[0;32m   1293\u001b[0m     \u001b[1;32mdef\u001b[0m \u001b[0mcreate_campaign\u001b[0m\u001b[1;33m(\u001b[0m\u001b[0mself\u001b[0m\u001b[1;33m,\u001b[0m \u001b[0mfields\u001b[0m\u001b[1;33m=\u001b[0m\u001b[1;32mNone\u001b[0m\u001b[1;33m,\u001b[0m \u001b[0mparams\u001b[0m\u001b[1;33m=\u001b[0m\u001b[1;32mNone\u001b[0m\u001b[1;33m,\u001b[0m \u001b[0mbatch\u001b[0m\u001b[1;33m=\u001b[0m\u001b[1;32mNone\u001b[0m\u001b[1;33m,\u001b[0m \u001b[0mpending\u001b[0m\u001b[1;33m=\u001b[0m\u001b[1;32mFalse\u001b[0m\u001b[1;33m)\u001b[0m\u001b[1;33m:\u001b[0m\u001b[1;33m\u001b[0m\u001b[0m\n",
      "\u001b[1;32m~\\AppData\\Local\\conda\\conda\\envs\\datamaster\\lib\\site-packages\\facebookads\\api.py\u001b[0m in \u001b[0;36mexecute\u001b[1;34m(self)\u001b[0m\n\u001b[0;32m    662\u001b[0m                 \u001b[0mendpoint\u001b[0m\u001b[1;33m=\u001b[0m\u001b[0mself\u001b[0m\u001b[1;33m.\u001b[0m\u001b[0m_endpoint\u001b[0m\u001b[1;33m,\u001b[0m\u001b[1;33m\u001b[0m\u001b[0m\n\u001b[0;32m    663\u001b[0m             )\n\u001b[1;32m--> 664\u001b[1;33m             \u001b[0mcursor\u001b[0m\u001b[1;33m.\u001b[0m\u001b[0mload_next_page\u001b[0m\u001b[1;33m(\u001b[0m\u001b[1;33m)\u001b[0m\u001b[1;33m\u001b[0m\u001b[0m\n\u001b[0m\u001b[0;32m    665\u001b[0m             \u001b[1;32mreturn\u001b[0m \u001b[0mcursor\u001b[0m\u001b[1;33m\u001b[0m\u001b[0m\n\u001b[0;32m    666\u001b[0m         \u001b[1;32mif\u001b[0m \u001b[0mself\u001b[0m\u001b[1;33m.\u001b[0m\u001b[0m_fields\u001b[0m\u001b[1;33m:\u001b[0m\u001b[1;33m\u001b[0m\u001b[0m\n",
      "\u001b[1;32m~\\AppData\\Local\\conda\\conda\\envs\\datamaster\\lib\\site-packages\\facebookads\\api.py\u001b[0m in \u001b[0;36mload_next_page\u001b[1;34m(self)\u001b[0m\n\u001b[0;32m    849\u001b[0m             \u001b[1;34m'GET'\u001b[0m\u001b[1;33m,\u001b[0m\u001b[1;33m\u001b[0m\u001b[0m\n\u001b[0;32m    850\u001b[0m             \u001b[0mself\u001b[0m\u001b[1;33m.\u001b[0m\u001b[0m_path\u001b[0m\u001b[1;33m,\u001b[0m\u001b[1;33m\u001b[0m\u001b[0m\n\u001b[1;32m--> 851\u001b[1;33m             \u001b[0mparams\u001b[0m\u001b[1;33m=\u001b[0m\u001b[0mself\u001b[0m\u001b[1;33m.\u001b[0m\u001b[0mparams\u001b[0m\u001b[1;33m,\u001b[0m\u001b[1;33m\u001b[0m\u001b[0m\n\u001b[0m\u001b[0;32m    852\u001b[0m         ).json()\n\u001b[0;32m    853\u001b[0m \u001b[1;33m\u001b[0m\u001b[0m\n",
      "\u001b[1;32m~\\AppData\\Local\\conda\\conda\\envs\\datamaster\\lib\\site-packages\\facebookads\\api.py\u001b[0m in \u001b[0;36mcall\u001b[1;34m(self, method, path, params, headers, files, url_override, api_version)\u001b[0m\n\u001b[0;32m    330\u001b[0m \u001b[1;33m\u001b[0m\u001b[0m\n\u001b[0;32m    331\u001b[0m         \u001b[1;32mif\u001b[0m \u001b[0mfb_response\u001b[0m\u001b[1;33m.\u001b[0m\u001b[0mis_failure\u001b[0m\u001b[1;33m(\u001b[0m\u001b[1;33m)\u001b[0m\u001b[1;33m:\u001b[0m\u001b[1;33m\u001b[0m\u001b[0m\n\u001b[1;32m--> 332\u001b[1;33m             \u001b[1;32mraise\u001b[0m \u001b[0mfb_response\u001b[0m\u001b[1;33m.\u001b[0m\u001b[0merror\u001b[0m\u001b[1;33m(\u001b[0m\u001b[1;33m)\u001b[0m\u001b[1;33m\u001b[0m\u001b[0m\n\u001b[0m\u001b[0;32m    333\u001b[0m \u001b[1;33m\u001b[0m\u001b[0m\n\u001b[0;32m    334\u001b[0m         \u001b[0mself\u001b[0m\u001b[1;33m.\u001b[0m\u001b[0m_num_requests_succeeded\u001b[0m \u001b[1;33m+=\u001b[0m \u001b[1;36m1\u001b[0m\u001b[1;33m\u001b[0m\u001b[0m\n",
      "\u001b[1;31mFacebookRequestError\u001b[0m: \n\n  Message: Call was not successful\n  Method:  GET\n  Path:    https://graph.facebook.com/v2.11/act_113612409500528/campaigns\n  Params:  {'summary': 'true'}\n\n  Status:  400\n  Response:\n    {\n      \"error\": {\n        \"message\": \"(#3) Application does not have the capability to make this API call.\",\n        \"type\": \"OAuthException\",\n        \"code\": 3,\n        \"fbtrace_id\": \"E4Bb4A3CAlP\"\n      }\n    }\n"
     ]
    }
   ],
   "source": [
    "campaigns = account.get_campaigns()"
   ]
  },
  {
   "cell_type": "code",
   "execution_count": 10,
   "metadata": {},
   "outputs": [
    {
     "name": "stdout",
     "output_type": "stream",
     "text": [
      "[]\n"
     ]
    }
   ],
   "source": [
    "camp_list = []\n",
    "\n",
    "for campaign in campaigns:\n",
    "    camp_list.append(campaign[campaign.Field.id])\n",
    "\n",
    "print(camp_list)"
   ]
  },
  {
   "cell_type": "code",
   "execution_count": 38,
   "metadata": {},
   "outputs": [],
   "source": [
    "fields = [\n",
    "    'account_id',\n",
    "    'account_name',\n",
    "    'campaign_name',\n",
    "    'campaign_id',\n",
    "    'spend',\n",
    "    'ad_name'\n",
    "]\n",
    "params = {\n",
    "    'level': 'ad',\n",
    "    'date_preset': 'lifetime'\n",
    "}"
   ]
  },
  {
   "cell_type": "code",
   "execution_count": 39,
   "metadata": {},
   "outputs": [
    {
     "ename": "FacebookRequestError",
     "evalue": "\n\n  Message: Call was not successful\n  Method:  GET\n  Path:    https://graph.facebook.com/v2.11/act_861484597392786/insights\n  Params:  {'level': 'ad', 'date_preset': 'lifetime', 'fields': 'account_id,account_name,campaign_name,campaign_id,spend,ad_name'}\n\n  Status:  400\n  Response:\n    {\n      \"error\": {\n        \"message\": \"(#272) This Ads API call requires the user to be admin of the application. User is not admin or developer of this application.\",\n        \"type\": \"OAuthException\",\n        \"code\": 272,\n        \"fbtrace_id\": \"Eqr8FNl1uMC\"\n      }\n    }\n",
     "output_type": "error",
     "traceback": [
      "\u001b[1;31m---------------------------------------------------------------------------\u001b[0m",
      "\u001b[1;31mFacebookRequestError\u001b[0m                      Traceback (most recent call last)",
      "\u001b[1;32m<ipython-input-39-062a512824db>\u001b[0m in \u001b[0;36m<module>\u001b[1;34m()\u001b[0m\n\u001b[1;32m----> 1\u001b[1;33m \u001b[0maccount\u001b[0m\u001b[1;33m.\u001b[0m\u001b[0mget_insights\u001b[0m\u001b[1;33m(\u001b[0m\u001b[0mfields\u001b[0m\u001b[1;33m=\u001b[0m\u001b[0mfields\u001b[0m\u001b[1;33m,\u001b[0m\u001b[0mparams\u001b[0m\u001b[1;33m=\u001b[0m\u001b[0mparams\u001b[0m\u001b[1;33m,\u001b[0m\u001b[1;33m)\u001b[0m\u001b[1;33m\u001b[0m\u001b[0m\n\u001b[0m",
      "\u001b[1;32m~\\AppData\\Local\\conda\\conda\\envs\\datamaster\\lib\\site-packages\\facebookads\\adobjects\\adaccount.py\u001b[0m in \u001b[0;36mget_insights\u001b[1;34m(self, fields, params, async, batch, pending)\u001b[0m\n\u001b[0;32m   1637\u001b[0m         \u001b[1;32melse\u001b[0m\u001b[1;33m:\u001b[0m\u001b[1;33m\u001b[0m\u001b[0m\n\u001b[0;32m   1638\u001b[0m             \u001b[0mself\u001b[0m\u001b[1;33m.\u001b[0m\u001b[0massure_call\u001b[0m\u001b[1;33m(\u001b[0m\u001b[1;33m)\u001b[0m\u001b[1;33m\u001b[0m\u001b[0m\n\u001b[1;32m-> 1639\u001b[1;33m             \u001b[1;32mreturn\u001b[0m \u001b[0mrequest\u001b[0m\u001b[1;33m.\u001b[0m\u001b[0mexecute\u001b[0m\u001b[1;33m(\u001b[0m\u001b[1;33m)\u001b[0m\u001b[1;33m\u001b[0m\u001b[0m\n\u001b[0m\u001b[0;32m   1640\u001b[0m \u001b[1;33m\u001b[0m\u001b[0m\n\u001b[0;32m   1641\u001b[0m     \u001b[1;32mdef\u001b[0m \u001b[0mget_insights_async\u001b[0m\u001b[1;33m(\u001b[0m\u001b[0mself\u001b[0m\u001b[1;33m,\u001b[0m \u001b[0mfields\u001b[0m\u001b[1;33m=\u001b[0m\u001b[1;32mNone\u001b[0m\u001b[1;33m,\u001b[0m \u001b[0mparams\u001b[0m\u001b[1;33m=\u001b[0m\u001b[1;32mNone\u001b[0m\u001b[1;33m,\u001b[0m \u001b[0mbatch\u001b[0m\u001b[1;33m=\u001b[0m\u001b[1;32mNone\u001b[0m\u001b[1;33m,\u001b[0m \u001b[0mpending\u001b[0m\u001b[1;33m=\u001b[0m\u001b[1;32mFalse\u001b[0m\u001b[1;33m)\u001b[0m\u001b[1;33m:\u001b[0m\u001b[1;33m\u001b[0m\u001b[0m\n",
      "\u001b[1;32m~\\AppData\\Local\\conda\\conda\\envs\\datamaster\\lib\\site-packages\\facebookads\\api.py\u001b[0m in \u001b[0;36mexecute\u001b[1;34m(self)\u001b[0m\n\u001b[0;32m    662\u001b[0m                 \u001b[0mendpoint\u001b[0m\u001b[1;33m=\u001b[0m\u001b[0mself\u001b[0m\u001b[1;33m.\u001b[0m\u001b[0m_endpoint\u001b[0m\u001b[1;33m,\u001b[0m\u001b[1;33m\u001b[0m\u001b[0m\n\u001b[0;32m    663\u001b[0m             )\n\u001b[1;32m--> 664\u001b[1;33m             \u001b[0mcursor\u001b[0m\u001b[1;33m.\u001b[0m\u001b[0mload_next_page\u001b[0m\u001b[1;33m(\u001b[0m\u001b[1;33m)\u001b[0m\u001b[1;33m\u001b[0m\u001b[0m\n\u001b[0m\u001b[0;32m    665\u001b[0m             \u001b[1;32mreturn\u001b[0m \u001b[0mcursor\u001b[0m\u001b[1;33m\u001b[0m\u001b[0m\n\u001b[0;32m    666\u001b[0m         \u001b[1;32mif\u001b[0m \u001b[0mself\u001b[0m\u001b[1;33m.\u001b[0m\u001b[0m_fields\u001b[0m\u001b[1;33m:\u001b[0m\u001b[1;33m\u001b[0m\u001b[0m\n",
      "\u001b[1;32m~\\AppData\\Local\\conda\\conda\\envs\\datamaster\\lib\\site-packages\\facebookads\\api.py\u001b[0m in \u001b[0;36mload_next_page\u001b[1;34m(self)\u001b[0m\n\u001b[0;32m    849\u001b[0m             \u001b[1;34m'GET'\u001b[0m\u001b[1;33m,\u001b[0m\u001b[1;33m\u001b[0m\u001b[0m\n\u001b[0;32m    850\u001b[0m             \u001b[0mself\u001b[0m\u001b[1;33m.\u001b[0m\u001b[0m_path\u001b[0m\u001b[1;33m,\u001b[0m\u001b[1;33m\u001b[0m\u001b[0m\n\u001b[1;32m--> 851\u001b[1;33m             \u001b[0mparams\u001b[0m\u001b[1;33m=\u001b[0m\u001b[0mself\u001b[0m\u001b[1;33m.\u001b[0m\u001b[0mparams\u001b[0m\u001b[1;33m,\u001b[0m\u001b[1;33m\u001b[0m\u001b[0m\n\u001b[0m\u001b[0;32m    852\u001b[0m         ).json()\n\u001b[0;32m    853\u001b[0m \u001b[1;33m\u001b[0m\u001b[0m\n",
      "\u001b[1;32m~\\AppData\\Local\\conda\\conda\\envs\\datamaster\\lib\\site-packages\\facebookads\\api.py\u001b[0m in \u001b[0;36mcall\u001b[1;34m(self, method, path, params, headers, files, url_override, api_version)\u001b[0m\n\u001b[0;32m    330\u001b[0m \u001b[1;33m\u001b[0m\u001b[0m\n\u001b[0;32m    331\u001b[0m         \u001b[1;32mif\u001b[0m \u001b[0mfb_response\u001b[0m\u001b[1;33m.\u001b[0m\u001b[0mis_failure\u001b[0m\u001b[1;33m(\u001b[0m\u001b[1;33m)\u001b[0m\u001b[1;33m:\u001b[0m\u001b[1;33m\u001b[0m\u001b[0m\n\u001b[1;32m--> 332\u001b[1;33m             \u001b[1;32mraise\u001b[0m \u001b[0mfb_response\u001b[0m\u001b[1;33m.\u001b[0m\u001b[0merror\u001b[0m\u001b[1;33m(\u001b[0m\u001b[1;33m)\u001b[0m\u001b[1;33m\u001b[0m\u001b[0m\n\u001b[0m\u001b[0;32m    333\u001b[0m \u001b[1;33m\u001b[0m\u001b[0m\n\u001b[0;32m    334\u001b[0m         \u001b[0mself\u001b[0m\u001b[1;33m.\u001b[0m\u001b[0m_num_requests_succeeded\u001b[0m \u001b[1;33m+=\u001b[0m \u001b[1;36m1\u001b[0m\u001b[1;33m\u001b[0m\u001b[0m\n",
      "\u001b[1;31mFacebookRequestError\u001b[0m: \n\n  Message: Call was not successful\n  Method:  GET\n  Path:    https://graph.facebook.com/v2.11/act_861484597392786/insights\n  Params:  {'level': 'ad', 'date_preset': 'lifetime', 'fields': 'account_id,account_name,campaign_name,campaign_id,spend,ad_name'}\n\n  Status:  400\n  Response:\n    {\n      \"error\": {\n        \"message\": \"(#272) This Ads API call requires the user to be admin of the application. User is not admin or developer of this application.\",\n        \"type\": \"OAuthException\",\n        \"code\": 272,\n        \"fbtrace_id\": \"Eqr8FNl1uMC\"\n      }\n    }\n"
     ]
    }
   ],
   "source": [
    "account.get_insights(fields=fields,params=params,)"
   ]
  },
  {
   "cell_type": "code",
   "execution_count": 54,
   "metadata": {},
   "outputs": [
    {
     "name": "stdout",
     "output_type": "stream",
     "text": [
      "<AdAccount> {\n",
      "    \"id\": \"act_861484597392786\"\n",
      "}\n"
     ]
    }
   ],
   "source": [
    "print(account)"
   ]
  },
  {
   "cell_type": "code",
   "execution_count": null,
   "metadata": {},
   "outputs": [],
   "source": []
  }
 ],
 "metadata": {
  "kernelspec": {
   "display_name": "Python 3",
   "language": "python",
   "name": "python3"
  },
  "language_info": {
   "codemirror_mode": {
    "name": "ipython",
    "version": 3
   },
   "file_extension": ".py",
   "mimetype": "text/x-python",
   "name": "python",
   "nbconvert_exporter": "python",
   "pygments_lexer": "ipython3",
   "version": "3.6.5"
  }
 },
 "nbformat": 4,
 "nbformat_minor": 2
}
